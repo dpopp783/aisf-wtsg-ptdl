{
 "cells": [
  {
   "cell_type": "code",
   "execution_count": 1,
   "id": "05f760cf-1d04-40e4-b9b3-8fc37a9c1a1a",
   "metadata": {
    "tags": []
   },
   "outputs": [],
   "source": [
    "import torch\n",
    "import torch.nn as nn\n",
    "import torch.optim as optim\n",
    "from torchvision import models, transforms\n",
    "from torch.utils.data import DataLoader\n",
    "from torchvision.datasets import CIFAR10, CIFAR100\n",
    "from tqdm import tqdm\n",
    "\n",
    "from utils import WeakLabeledData"
   ]
  },
  {
   "cell_type": "code",
   "execution_count": 2,
   "id": "7a85cd85-67b9-4886-a1fe-babaf3b0dce9",
   "metadata": {
    "tags": []
   },
   "outputs": [],
   "source": [
    "GROUND_TRUTH = True\n",
    "DATASET='imagenet'\n",
    "STARTING_EPOCH = 0"
   ]
  },
  {
   "cell_type": "code",
   "execution_count": 3,
   "id": "81b7e68f-0b22-4c21-8595-3e12d6f70eca",
   "metadata": {
    "tags": []
   },
   "outputs": [],
   "source": [
    "def setup_resnet50(num_classes=10, freeze=True):\n",
    "    model = models.resnet50(weights=models.ResNet50_Weights.IMAGENET1K_V1)\n",
    "    \n",
    "    if num_classes is not None:\n",
    "        print(f\"Modifying last layer for {num_classes} classes\")\n",
    "        model.fc = nn.Linear(model.fc.in_features, num_classes)\n",
    "    \n",
    "    if freeze:\n",
    "        # freeze layers for finetuning\n",
    "        for param in model.parameters():\n",
    "            param.requires_grad = False\n",
    "\n",
    "        # unfreeze last layer to finetune\n",
    "        for param in model.fc.parameters():\n",
    "            param.requires_grad = True\n",
    "        \n",
    "        for param in model.layer4.parameters():\n",
    "            param.requires_grad = True\n",
    "            \n",
    "    return model"
   ]
  },
  {
   "cell_type": "code",
   "execution_count": 4,
   "id": "be15c5bc-e220-454d-be93-232c9a18cf4d",
   "metadata": {
    "tags": []
   },
   "outputs": [
    {
     "name": "stderr",
     "output_type": "stream",
     "text": [
      "Downloading: \"https://download.pytorch.org/models/resnet50-0676ba61.pth\" to /root/.cache/torch/hub/checkpoints/resnet50-0676ba61.pth\n",
      "100%|██████████| 97.8M/97.8M [00:00<00:00, 329MB/s]\n"
     ]
    }
   ],
   "source": [
    "# Load the model\n",
    "model = setup_resnet50(None)\n",
    "\n",
    "if STARTING_EPOCH > 0:\n",
    "    model.load_state_dict(torch.load(f\"models/{DATASET}/resnet50_{'gt' if GROUND_TRUTH else 'wtsg'}_epoch{STARTING_EPOCH}.pth\"))"
   ]
  },
  {
   "cell_type": "code",
   "execution_count": 5,
   "id": "4c3260bd-10ec-4074-a264-3e124df7f9c7",
   "metadata": {
    "tags": []
   },
   "outputs": [],
   "source": [
    "train_set = torch.load(f'./data/{DATASET}-split/weak-labeled-half.pth')\n",
    "train_loader = DataLoader(train_set, batch_size=128, shuffle=False)"
   ]
  },
  {
   "cell_type": "code",
   "execution_count": 6,
   "id": "f90ae1c9-ff92-4e84-869a-a24b8c9f808d",
   "metadata": {
    "tags": []
   },
   "outputs": [],
   "source": [
    "# Define optimizer and loss function\n",
    "optimizer = optim.Adam(model.parameters(), lr=1e-4)\n",
    "criterion = nn.CrossEntropyLoss()"
   ]
  },
  {
   "cell_type": "code",
   "execution_count": 7,
   "id": "ab617273-70d0-46cf-896c-80fe60dd4487",
   "metadata": {
    "tags": []
   },
   "outputs": [],
   "source": [
    "# Training Loop setup\n",
    "device = torch.device(\"cuda\" if torch.cuda.is_available() else \"cpu\")\n",
    "model = model.to(device)"
   ]
  },
  {
   "cell_type": "code",
   "execution_count": 8,
   "id": "36892e50-853d-488d-a5ac-fed74e0cca7d",
   "metadata": {
    "tags": []
   },
   "outputs": [
    {
     "name": "stderr",
     "output_type": "stream",
     "text": [
      "Epoch [1/10] (GT): 100%|██████████| 313/313 [08:30<00:00,  1.63s/it, avg_loss=0.00894, cum_loss=358]\n",
      "Epoch [2/10] (GT): 100%|██████████| 313/313 [08:04<00:00,  1.55s/it, avg_loss=0.00318, cum_loss=127] \n",
      "Epoch [3/10] (GT): 100%|██████████| 313/313 [07:59<00:00,  1.53s/it, avg_loss=0.00108, cum_loss=43.3]\n",
      "Epoch [4/10] (GT): 100%|██████████| 313/313 [07:18<00:00,  1.40s/it, avg_loss=0.000419, cum_loss=16.8]\n",
      "Epoch [5/10] (GT): 100%|██████████| 313/313 [08:39<00:00,  1.66s/it, avg_loss=0.00021, cum_loss=8.41] \n",
      "Epoch [6/10] (GT): 100%|██████████| 313/313 [08:32<00:00,  1.64s/it, avg_loss=0.00013, cum_loss=5.22] \n",
      "Epoch [7/10] (GT): 100%|██████████| 313/313 [09:05<00:00,  1.74s/it, avg_loss=9.11e-5, cum_loss=3.65] \n",
      "Epoch [8/10] (GT): 100%|██████████| 313/313 [08:38<00:00,  1.66s/it, avg_loss=6.93e-5, cum_loss=2.77] \n",
      "Epoch [9/10] (GT): 100%|██████████| 313/313 [08:46<00:00,  1.68s/it, avg_loss=5.48e-5, cum_loss=2.19] \n",
      "Epoch [10/10] (GT): 100%|██████████| 313/313 [08:23<00:00,  1.61s/it, avg_loss=4.45e-5, cum_loss=1.78] \n"
     ]
    }
   ],
   "source": [
    "# Training Loop\n",
    "model.train()\n",
    "\n",
    "NUM_EPOCHS = 10  # Fine-tuning for 3 epochs\n",
    "\n",
    "for epoch in range(STARTING_EPOCH, NUM_EPOCHS):\n",
    "    cum_loss = 0.0\n",
    "    total = 0\n",
    "    \n",
    "    progress_bar = tqdm(train_loader, leave=True)\n",
    "    progress_bar.set_description(f\"Epoch [{epoch+1}/{NUM_EPOCHS}] ({'GT' if GROUND_TRUTH else 'WTSG'})\")\n",
    "    for idx, (images, true_labels, weak_labels) in enumerate(progress_bar):\n",
    "        images, true_labels, weak_labels = images.to(device), true_labels.to(device), weak_labels.to(device)\n",
    "        \n",
    "        optimizer.zero_grad()\n",
    "        outputs = model(images)\n",
    "        \n",
    "        if GROUND_TRUTH:\n",
    "            # training step for ground truth model\n",
    "            loss = criterion(outputs, true_labels)\n",
    "        else:\n",
    "            # training step for weak labels model\n",
    "            loss = criterion(outputs, weak_labels)\n",
    "    \n",
    "        loss.backward()\n",
    "        optimizer.step()\n",
    "        \n",
    "        cum_loss += loss.item()\n",
    "        total += len(true_labels)\n",
    "        \n",
    "        avg_loss = cum_loss / total\n",
    "        \n",
    "        # Update the tqdm bar with loss and epoch\n",
    "        progress_bar.set_postfix({\"avg_loss\":avg_loss, \"cum_loss\":cum_loss})"
   ]
  },
  {
   "cell_type": "code",
   "execution_count": 9,
   "id": "e8cdd6a4-028e-41aa-a15d-538c485ecfce",
   "metadata": {
    "tags": []
   },
   "outputs": [],
   "source": [
    "# Save the fine-tuned model\n",
    "name = f\"resnet50_{'gt' if GROUND_TRUTH else 'wtsg'}_epoch10.pth\"\n",
    "torch.save(model.state_dict(), f'models/{DATASET}/{name}')"
   ]
  },
  {
   "cell_type": "code",
   "execution_count": 10,
   "id": "38431ba0-86d7-466e-af70-816d9433da29",
   "metadata": {
    "tags": []
   },
   "outputs": [],
   "source": [
    "# model.load_state_dict(torch.load(f\"models/{DATASET}/fine_tuned_resnet50_{'gt' if GROUND_TRUTH else 'wtsg'}_epoch10.pth\"))"
   ]
  },
  {
   "cell_type": "code",
   "execution_count": 11,
   "id": "89bcd806-e589-45cb-bf2f-97fce928d8b1",
   "metadata": {
    "tags": []
   },
   "outputs": [],
   "source": [
    "# load the test data\n",
    "# Define preprocessing transformations\n",
    "# transform = transforms.Compose([\n",
    "#     transforms.Resize((224, 224)),  # All 3 models expect 224x224 images\n",
    "#     transforms.ToTensor(),\n",
    "#     transforms.Normalize(mean=[0.485, 0.456, 0.406], std=[0.229, 0.224, 0.225]), # normalization constants for ImageNet-1k (pre-training data)\n",
    "# ])\n",
    "\n",
    "# test_data = CIFAR100(root='./data', train=False, transform=transform)\n",
    "test_data = torch.load(f'./data/{DATASET}-split/test.pth')\n",
    "test_loader = DataLoader(test_data, batch_size=128, shuffle=False)"
   ]
  },
  {
   "cell_type": "code",
   "execution_count": 12,
   "id": "d8f711e0-90cc-4ae3-8184-69556dd8295d",
   "metadata": {
    "tags": []
   },
   "outputs": [
    {
     "name": "stderr",
     "output_type": "stream",
     "text": [
      "100%|██████████| 79/79 [01:55<00:00,  1.46s/it, accuracy=74.1, loss=0.00887]"
     ]
    },
    {
     "name": "stdout",
     "output_type": "stream",
     "text": [
      "Test Loss: 1.1227\n",
      "Test Accuracy: 74.09%\n"
     ]
    },
    {
     "name": "stderr",
     "output_type": "stream",
     "text": [
      "\n"
     ]
    }
   ],
   "source": [
    "model.eval()\n",
    "\n",
    "# Initialize metrics\n",
    "correct = 0\n",
    "total = 0\n",
    "test_loss = 0.0\n",
    "\n",
    "with torch.no_grad():  # Disable gradient computation to save memory and computation\n",
    "    progress_bar = tqdm(test_loader, leave=True)\n",
    "    for idx, (images, labels) in enumerate(progress_bar):\n",
    "        images, labels = images.to(device), labels.to(device) # send data to gpu\n",
    "        \n",
    "        # Forward pass\n",
    "        outputs = model(images)\n",
    "        \n",
    "        # Calculate loss\n",
    "        loss = criterion(outputs, labels)\n",
    "        test_loss += loss.item()  # Accumulate loss\n",
    "        \n",
    "        # Calculate accuracy\n",
    "        _, predicted = torch.max(outputs, 1)\n",
    "        total += len(labels)\n",
    "        correct += (predicted == labels).sum().item()\n",
    "        \n",
    "        # Calculate metrics for display\n",
    "        avg_loss = test_loss / total\n",
    "        accuracy = 100 * correct / total\n",
    "\n",
    "        # Update the tqdm bar with loss and accuracy\n",
    "        progress_bar.set_postfix(loss=avg_loss, accuracy=accuracy)\n",
    "\n",
    "# Calculate final metrics\n",
    "avg_loss = test_loss / len(test_loader)\n",
    "accuracy = 100 * correct / total\n",
    "\n",
    "print(f\"Test Loss: {avg_loss:.4f}\")\n",
    "print(f\"Test Accuracy: {accuracy:.2f}%\")"
   ]
  }
 ],
 "metadata": {
  "kernelspec": {
   "display_name": "Python 3 (ipykernel)",
   "language": "python",
   "name": "python3"
  },
  "language_info": {
   "codemirror_mode": {
    "name": "ipython",
    "version": 3
   },
   "file_extension": ".py",
   "mimetype": "text/x-python",
   "name": "python",
   "nbconvert_exporter": "python",
   "pygments_lexer": "ipython3",
   "version": "3.11.7"
  }
 },
 "nbformat": 4,
 "nbformat_minor": 5
}
