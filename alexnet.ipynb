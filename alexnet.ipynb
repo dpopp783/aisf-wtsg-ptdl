{
 "cells": [
  {
   "cell_type": "code",
   "execution_count": null,
   "id": "f4b481ec-9f24-46b3-824d-e2826fc16613",
   "metadata": {
    "tags": []
   },
   "outputs": [],
   "source": [
    "import torch\n",
    "import torch.nn as nn\n",
    "import torch.optim as optim\n",
    "from torchvision import models, transforms\n",
    "from torch.utils.data import DataLoader, Dataset\n",
    "from torchvision.datasets import CIFAR10, CIFAR100, ImageNet\n",
    "from tqdm import tqdm"
   ]
  },
  {
   "cell_type": "code",
   "execution_count": null,
   "id": "714a5bcc-8fcd-47d7-b322-aecbc63f05bc",
   "metadata": {
    "tags": []
   },
   "outputs": [],
   "source": [
    "# Load the model\n",
    "alexnet = models.alexnet(weights=models.AlexNet_Weights.IMAGENET1K_V1)"
   ]
  },
  {
   "cell_type": "code",
   "execution_count": null,
   "id": "47d42f8c-e671-4edc-adcc-99c7befc984b",
   "metadata": {
    "tags": []
   },
   "outputs": [],
   "source": [
    "DATASET='imagenet'"
   ]
  },
  {
   "cell_type": "code",
   "execution_count": null,
   "id": "ef5b76aa-9a63-470f-b99a-971d094cc58b",
   "metadata": {
    "tags": []
   },
   "outputs": [],
   "source": [
    "alexnet"
   ]
  },
  {
   "cell_type": "code",
   "execution_count": null,
   "id": "8b0a3bd3-13ed-40c6-b610-039b7364f436",
   "metadata": {
    "tags": []
   },
   "outputs": [],
   "source": [
    "# freeze layers for finetuning\n",
    "for param in alexnet.parameters():\n",
    "    param.requires_grad = False\n",
    "\n",
    "# unfreeze last layer to finetune\n",
    "for param in alexnet.classifier.parameters():\n",
    "    param.requires_grad = True"
   ]
  },
  {
   "cell_type": "code",
   "execution_count": null,
   "id": "8bd1f4c0-443b-4ce4-bd55-4f0fb55cde90",
   "metadata": {
    "tags": []
   },
   "outputs": [],
   "source": [
    "# Define preprocessing transformations\n",
    "transform = transforms.Compose([\n",
    "    transforms.Resize((224, 224)),  # All 3 models expect 224x224 images\n",
    "    transforms.ToTensor(),\n",
    "    transforms.Normalize(mean=[0.485, 0.456, 0.406], std=[0.229, 0.224, 0.225]), # normalization constants for ImageNet-1k (pre-training data)\n",
    "])"
   ]
  },
  {
   "cell_type": "code",
   "execution_count": null,
   "id": "f6d4a9c7-07b7-464a-8fd9-0bfce7eeb8c6",
   "metadata": {
    "tags": []
   },
   "outputs": [],
   "source": [
    "# Load dataset\n",
    "train_data = ImageNet(root='/root/.cache/kagglehub/datasets/titericz/imagenet1k-val/versions/1', split=\"val\", transform=transform)"
   ]
  },
  {
   "cell_type": "code",
   "execution_count": null,
   "id": "ce8dedb4-e100-4a9d-ade4-803475d31d64",
   "metadata": {
    "tags": []
   },
   "outputs": [],
   "source": [
    "# split data in half - half for alexnet, half for strong model\n",
    "# from sklearn.model_selection import train_test_split\n",
    "# import numpy as np\n",
    "# from torch.utils.data import Subset"
   ]
  },
  {
   "cell_type": "code",
   "execution_count": null,
   "id": "962c9ed7-ffda-40b1-a452-9756fea15bd1",
   "metadata": {
    "tags": []
   },
   "outputs": [],
   "source": [
    "# train_indices, test_indices = train_test_split(np.arange(len(train_data)), test_size=.2, shuffle=True, stratify=train_data.targets)"
   ]
  },
  {
   "cell_type": "code",
   "execution_count": null,
   "id": "7fb6337c-9e87-4c1a-831e-32d2c8120d78",
   "metadata": {
    "tags": []
   },
   "outputs": [],
   "source": [
    "train_data = torch.load(f'./data/{DATASET}-split/finetune.pth')\n",
    "# wtsg_data = torch.load('./data/{DATASET}-split/wtsg.pth')"
   ]
  },
  {
   "cell_type": "code",
   "execution_count": null,
   "id": "35430973-e861-455e-aa35-0932c4912922",
   "metadata": {
    "tags": []
   },
   "outputs": [],
   "source": [
    "# finetune_data = Subset(train_data, train_indices)\n",
    "# test_data = Subset(train_data, test_indices)"
   ]
  },
  {
   "cell_type": "code",
   "execution_count": null,
   "id": "34318076-fc30-4b2e-ac59-dabccf9a0ab4",
   "metadata": {
    "tags": []
   },
   "outputs": [],
   "source": [
    "# create dataloaders for training data\n",
    "train_loader = DataLoader(train_data, batch_size=128, shuffle=False)\n",
    "# test_loader = DataLoader(test_data, batch_size=128, shuffle=False)"
   ]
  },
  {
   "cell_type": "code",
   "execution_count": null,
   "id": "b592ab26-b5db-4570-8eef-f8ae55d80b49",
   "metadata": {
    "tags": []
   },
   "outputs": [],
   "source": [
    "# save both datasets for later, in case run gets interrupted\n",
    "# torch.save(finetune_data, './data/imagenet-split/finetune.pth')\n",
    "# torch.save(test_data, './data/imagenet-split/test.pth')"
   ]
  },
  {
   "cell_type": "code",
   "execution_count": null,
   "id": "1af9eb44-7332-4b82-99dc-b88ebb87627c",
   "metadata": {
    "tags": []
   },
   "outputs": [],
   "source": [
    "# # Define optimizer and loss function\n",
    "# optimizer = optim.Adam(alexnet.classifier[6].parameters(), lr=1e-4) # note: only training classifier\n",
    "criterion = nn.CrossEntropyLoss()"
   ]
  },
  {
   "cell_type": "code",
   "execution_count": null,
   "id": "4dfafa43-b7e9-425c-8f34-804ee2823963",
   "metadata": {
    "tags": []
   },
   "outputs": [],
   "source": [
    "# Training loop\n",
    "device = torch.device(\"cuda\" if torch.cuda.is_available() else \"cpu\")\n",
    "alexnet = alexnet.to(device)"
   ]
  },
  {
   "cell_type": "code",
   "execution_count": null,
   "id": "7715e2a8-9ae8-4699-959b-c475b3e5c5c8",
   "metadata": {
    "tags": []
   },
   "outputs": [],
   "source": [
    "alexnet.train()\n",
    "\n",
    "NUM_EPOCHS = 20  # Fine-tuning for 3 epochs\n",
    "\n",
    "cum_loss = 0.0\n",
    "total = 0\n",
    "\n",
    "for epoch in range(NUM_EPOCHS):\n",
    "    progress_bar = tqdm(finetune_loader, leave=True)\n",
    "    progress_bar.set_description(f\"Epoch [{epoch+1}/{NUM_EPOCHS}]\")\n",
    "    for idx, (images, labels) in enumerate(progress_bar):\n",
    "        images, labels = images.to(device), labels.to(device)\n",
    "        \n",
    "        optimizer.zero_grad()\n",
    "        outputs = alexnet(images)\n",
    "        loss = criterion(outputs, labels)\n",
    "        loss.backward()\n",
    "        optimizer.step()\n",
    "        \n",
    "        cum_loss += loss.item()\n",
    "        total += len(labels)\n",
    "        \n",
    "        avg_loss = cum_loss / total\n",
    "        \n",
    "        # Update the tqdm bar with loss and epoch\n",
    "        progress_bar.set_postfix(loss=avg_loss)"
   ]
  },
  {
   "cell_type": "code",
   "execution_count": null,
   "id": "20fd4418-47b6-4409-8378-0c28a2200c97",
   "metadata": {
    "tags": []
   },
   "outputs": [],
   "source": [
    "# Save the fine-tuned model\n",
    "torch.save(alexnet.state_dict(), 'models/cifar100/alexnet_cifar100_frozen3.pth')"
   ]
  },
  {
   "cell_type": "markdown",
   "id": "29c17a10-8f97-40c6-80cc-4c9814e82f8f",
   "metadata": {},
   "source": [
    "### Generate Pseudolabels"
   ]
  },
  {
   "cell_type": "code",
   "execution_count": null,
   "id": "6c844d5d-85d9-4a7a-97c4-163d12faaf1a",
   "metadata": {
    "tags": []
   },
   "outputs": [],
   "source": [
    "alexnet.eval()\n",
    "\n",
    "with torch.no_grad():\n",
    "    correct = 0\n",
    "    total = 0\n",
    "    progress_bar = tqdm(train_loader, leave=True)\n",
    "    pseudolabels = []\n",
    "    for idx, (images, labels) in enumerate(progress_bar):\n",
    "        images, labels = images.to(device), labels.to(device)\n",
    "\n",
    "        outputs = alexnet(images)\n",
    "        _, plabels = torch.max(outputs, 1)\n",
    "        pseudolabels += plabels.cpu()\n",
    "        \n",
    "        correct += (plabels == labels).sum().item()\n",
    "        total += len(labels)\n",
    "        acc = 100 * correct / total\n",
    "        \n",
    "        progress_bar.set_postfix({\"Acc\": acc})"
   ]
  },
  {
   "cell_type": "code",
   "execution_count": null,
   "id": "ae7400d9-b59f-4e73-a554-14f550a6b1c9",
   "metadata": {
    "tags": []
   },
   "outputs": [],
   "source": [
    "pseudolabels = torch.tensor(pseudolabels).tolist() # remove weirdness where entries are all tensors instead of numbers"
   ]
  },
  {
   "cell_type": "code",
   "execution_count": null,
   "id": "a8702472-5c78-46d3-a217-289b2c8aa2dc",
   "metadata": {
    "tags": []
   },
   "outputs": [],
   "source": [
    "class WeakLabeledData(Dataset):\n",
    "    def __init__(self, original_dataset, weak_labels):\n",
    "        self.dataset = original_dataset\n",
    "        self.weak_labels = weak_labels\n",
    "    \n",
    "    def __len__(self):\n",
    "        return len(self.dataset)\n",
    "    \n",
    "    def __getitem__(self, index):\n",
    "        image, true_label = self.dataset[index]\n",
    "        weak_label = self.weak_labels[index]\n",
    "        return image, true_label, weak_label"
   ]
  },
  {
   "cell_type": "code",
   "execution_count": null,
   "id": "f5ebfcc6-75a0-41a3-ba8b-5d1b02d81a85",
   "metadata": {
    "tags": []
   },
   "outputs": [],
   "source": [
    "weak_data = WeakLabeledData(train_data, pseudolabels)"
   ]
  },
  {
   "cell_type": "code",
   "execution_count": null,
   "id": "6dd9ebeb-3199-4a32-91a2-942768de98ee",
   "metadata": {
    "tags": []
   },
   "outputs": [],
   "source": [
    "torch.save(weak_data, './data/imagenet-split/weak-labeled-half.pth')"
   ]
  },
  {
   "cell_type": "markdown",
   "id": "33728a97-1c20-4ebc-a7ab-0d4d61886fe4",
   "metadata": {},
   "source": [
    "### Evaluate AlexNet accuracy"
   ]
  },
  {
   "cell_type": "code",
   "execution_count": null,
   "id": "a4208a2f-ff61-4880-93db-1f9dccddee4b",
   "metadata": {
    "tags": []
   },
   "outputs": [],
   "source": [
    "# load the test data\n",
    "# test_data = CIFAR100(root='./data', train=False, transform=transform)\n",
    "# test_loader = DataLoader(test_data, batch_size=128, shuffle=False)"
   ]
  },
  {
   "cell_type": "code",
   "execution_count": null,
   "id": "b7e8f25f-41e9-412a-96a6-79cca4fbb62f",
   "metadata": {
    "tags": []
   },
   "outputs": [],
   "source": [
    "# alexnet.load_state_dict(torch.load('alexnet_cifar100.pth'))"
   ]
  },
  {
   "cell_type": "code",
   "execution_count": null,
   "id": "06033cce-f8b7-47db-b01a-40195089b706",
   "metadata": {
    "tags": []
   },
   "outputs": [],
   "source": [
    "alexnet.eval()\n",
    "\n",
    "# Initialize metrics\n",
    "correct = 0\n",
    "total = 0\n",
    "test_loss = 0.0\n",
    "\n",
    "with torch.no_grad():  # Disable gradient computation to save memory and computation\n",
    "    progress_bar = tqdm(test_loader, leave=True)\n",
    "    for idx, (images, labels) in enumerate(progress_bar):\n",
    "        images, labels = images.to(device), labels.to(device) # send data to gpu\n",
    "        \n",
    "        # Forward pass\n",
    "        outputs = alexnet(images)\n",
    "        \n",
    "        # Calculate loss\n",
    "        loss = criterion(outputs, labels)\n",
    "        test_loss += loss.item()  # Accumulate loss\n",
    "        \n",
    "        # Calculate accuracy\n",
    "        _, predicted = torch.max(outputs, 1)\n",
    "        total += len(labels)\n",
    "        correct += (predicted == labels).sum().item()\n",
    "        \n",
    "        # Calculate metrics for display\n",
    "        avg_loss = test_loss / total\n",
    "        accuracy = 100 * correct / total\n",
    "\n",
    "        # Update the tqdm bar with loss and accuracy\n",
    "        progress_bar.set_postfix(loss=avg_loss, accuracy=accuracy)\n",
    "\n",
    "# Calculate final metrics\n",
    "avg_loss = test_loss / len(test_loader)\n",
    "accuracy = 100 * correct / total\n",
    "\n",
    "print(f\"Test Loss: {avg_loss:.4f}\")\n",
    "print(f\"Test Accuracy: {accuracy:.2f}%\")"
   ]
  },
  {
   "cell_type": "code",
   "execution_count": null,
   "id": "c9bb69b1-4799-401b-9b36-6af7117703d1",
   "metadata": {
    "tags": []
   },
   "outputs": [],
   "source": [
    "from utils import evaluate_pseudolabels"
   ]
  },
  {
   "cell_type": "code",
   "execution_count": null,
   "id": "79b19a65-3487-49f9-82bb-e1d4b37e0673",
   "metadata": {
    "tags": []
   },
   "outputs": [],
   "source": [
    "evaluate_pseudolabels(DataLoader(weak_data, batch_size=128, shuffle=False))"
   ]
  }
 ],
 "metadata": {
  "kernelspec": {
   "display_name": "Python 3 (ipykernel)",
   "language": "python",
   "name": "python3"
  },
  "language_info": {
   "codemirror_mode": {
    "name": "ipython",
    "version": 3
   },
   "file_extension": ".py",
   "mimetype": "text/x-python",
   "name": "python",
   "nbconvert_exporter": "python",
   "pygments_lexer": "ipython3",
   "version": "3.11.7"
  }
 },
 "nbformat": 4,
 "nbformat_minor": 5
}
